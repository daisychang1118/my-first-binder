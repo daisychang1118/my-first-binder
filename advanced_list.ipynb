{
 "cells": [
  {
   "cell_type": "code",
   "execution_count": 12,
   "id": "42afe7d6-1077-4d91-bbcf-caaeaf5c4d19",
   "metadata": {},
   "outputs": [
    {
     "name": "stdout",
     "output_type": "stream",
     "text": [
      "['banana', 'cherry', 'apple']\n",
      "[]\n",
      "[5, True, 'apple', 'apple']\n",
      "banana\n",
      "apple\n",
      "cherry\n",
      "banana\n",
      "cherry\n",
      "apple\n",
      "yes\n",
      "['banana', 'cherry', 'apple', 'lemon']\n",
      "['banana', 'blueberry', 'cherry', 'apple', 'lemon']\n",
      "['banana', 'blueberry', 'cherry', 'apple']\n",
      "['banana', 'cherry', 'apple']\n",
      "['apple', 'cherry', 'banana']\n",
      "['apple', 'banana', 'cherry']\n",
      "[]\n"
     ]
    }
   ],
   "source": [
    "# List: ordered, mutable, allows duplicate elements\n",
    "\n",
    "mylist = [\"banana\", \"cherry\", \"apple\"]\n",
    "print(mylist)\n",
    "\n",
    "mylist2 = list()\n",
    "print(mylist2)\n",
    "\n",
    "mylist3 = [5, True, \"apple\", \"apple\"]\n",
    "print(mylist3)\n",
    "\n",
    "item = mylist[0]\n",
    "print(item)\n",
    "\n",
    "item = mylist[-1]\n",
    "print(item)\n",
    "\n",
    "item = mylist[-2]\n",
    "print(item)\n",
    "\n",
    "for i in mylist:\n",
    "    print(i)\n",
    "    \n",
    "if \"banana\" in mylist:\n",
    "    print(\"yes\")\n",
    "else:\n",
    "    print(\"no\")\n",
    "    \n",
    "len(mylist) \n",
    "mylist.append(\"lemon\")\n",
    "print(mylist)\n",
    "\n",
    "mylist.insert(1,\"blueberry\")\n",
    "print(mylist)\n",
    "\n",
    "mylist.pop()\n",
    "print(mylist)\n",
    "\n",
    "mylist.remove(\"blueberry\")\n",
    "print(mylist)\n",
    "\n",
    "mylist.reverse()\n",
    "print(mylist)\n",
    "\n",
    "mylist.sort()\n",
    "print(mylist)\n",
    "\n",
    "mylist.clear()\n",
    "print(mylist)"
   ]
  },
  {
   "cell_type": "code",
   "execution_count": 22,
   "id": "3fb3b892-88a6-4ef0-b3a3-8845d9a21bf1",
   "metadata": {},
   "outputs": [
    {
     "name": "stdout",
     "output_type": "stream",
     "text": [
      "[0, 0, 0, 0, 0]\n",
      "[0, 0, 0, 0, 0, 1, 2, 3, 4, 5]\n",
      "[2, 3, 4, 5]\n",
      "[1, 2, 3, 4, 5]\n",
      "[6, 7, 8, 9]\n",
      "[1, 2, 3, 4, 5, 6, 7, 8, 9]\n",
      "[1, 3, 5, 7, 9]\n",
      "[1, 4, 7]\n",
      "[9, 8, 7, 6, 5, 4, 3, 2, 1]\n",
      "[9, 7, 5, 3, 1]\n"
     ]
    }
   ],
   "source": [
    "mylist = [0] * 5\n",
    "print(mylist)\n",
    "\n",
    "mylist2 = [1,2,3,4,5]\n",
    "new_list = mylist + mylist2\n",
    "print(new_list)\n",
    "\n",
    "# slicing\n",
    "mylist = [1,2,3,4,5,6,7,8,9]\n",
    "a = mylist[1:5]\n",
    "print(a)\n",
    "\n",
    "b = mylist[:5]\n",
    "print(b)\n",
    "\n",
    "c = mylist[5:]\n",
    "print(c)\n",
    "\n",
    "d = mylist[::1]\n",
    "e = mylist[::2]\n",
    "f = mylist[::3]\n",
    "print(d)\n",
    "print(e)\n",
    "print(f)\n",
    "\n",
    "g = mylist[::-1] # trick to reverse list\n",
    "h = mylist[::-2]\n",
    "print(g)\n",
    "print(h)"
   ]
  },
  {
   "cell_type": "code",
   "execution_count": 29,
   "id": "9b3e5c7a-18eb-46ba-96df-084992454337",
   "metadata": {},
   "outputs": [
    {
     "name": "stdout",
     "output_type": "stream",
     "text": [
      "this is assignment, not an actual copy\n",
      "['banana', 'cherry', 'apple']\n",
      "['banana', 'cherry', 'apple', 'lemon']\n",
      "['banana', 'cherry', 'apple', 'lemon']\n",
      "\n",
      "copy a list: way 1\n",
      "['banana', 'cherry', 'apple']\n",
      "['banana', 'cherry', 'apple', 'lemon']\n",
      "['banana', 'cherry', 'apple']\n",
      "\n",
      "copy a list: way 2\n",
      "['banana', 'cherry', 'apple']\n",
      "['banana', 'cherry', 'apple', 'lemon']\n",
      "['banana', 'cherry', 'apple']\n",
      "\n",
      "copy a list: way 3\n",
      "['banana', 'cherry', 'apple']\n",
      "['banana', 'cherry', 'apple', 'lemon']\n",
      "['banana', 'cherry', 'apple']\n"
     ]
    }
   ],
   "source": [
    "# copy a list\n",
    "print(\"\\nthis is assignment, not an actual copy\")\n",
    "\n",
    "list_org = [\"banana\", \"cherry\", \"apple\"]            \n",
    "list_cpy = list_org # this is assignment, not an actual copy\n",
    "print(list_cpy)\n",
    "list_cpy.append(\"lemon\")\n",
    "print(list_cpy)\n",
    "print(list_org)\n",
    "\n",
    "print(\"\\ncopy a list: way 1\")\n",
    "list_org = [\"banana\", \"cherry\", \"apple\"]  \n",
    "list_cpy = list(list_org)\n",
    "print(list_cpy)\n",
    "list_cpy.append(\"lemon\")\n",
    "print(list_cpy)\n",
    "print(list_org)\n",
    "\n",
    "print(\"\\ncopy a list: way 2\")\n",
    "list_org = [\"banana\", \"cherry\", \"apple\"]  \n",
    "list_cpy = list_org.copy()\n",
    "print(list_cpy)\n",
    "list_cpy.append(\"lemon\")\n",
    "print(list_cpy)\n",
    "print(list_org)\n",
    "\n",
    "print(\"\\ncopy a list: way 3\")\n",
    "list_org = [\"banana\", \"cherry\", \"apple\"]  \n",
    "list_cpy = list_org[:]\n",
    "print(list_cpy)\n",
    "list_cpy.append(\"lemon\")\n",
    "print(list_cpy)\n",
    "print(list_org)"
   ]
  },
  {
   "cell_type": "code",
   "execution_count": 30,
   "id": "34aabbc5-1cde-4e20-8aa8-53f05f673962",
   "metadata": {},
   "outputs": [
    {
     "name": "stdout",
     "output_type": "stream",
     "text": [
      "[1, 2, 3, 4, 5, 6]\n",
      "[1, 4, 9, 16, 25, 36]\n"
     ]
    }
   ],
   "source": [
    "# list comprehension\n",
    "\n",
    "mylist = [1,2,3,4,5,6]\n",
    "b = [i*i for i in mylist]\n",
    "print(mylist)\n",
    "print(b)"
   ]
  },
  {
   "cell_type": "code",
   "execution_count": null,
   "id": "22ce3bc3-7214-423f-a3a9-b91d45027686",
   "metadata": {},
   "outputs": [],
   "source": []
  }
 ],
 "metadata": {
  "kernelspec": {
   "display_name": "Python 3",
   "language": "python",
   "name": "python3"
  },
  "language_info": {
   "codemirror_mode": {
    "name": "ipython",
    "version": 3
   },
   "file_extension": ".py",
   "mimetype": "text/x-python",
   "name": "python",
   "nbconvert_exporter": "python",
   "pygments_lexer": "ipython3",
   "version": "3.7.10"
  }
 },
 "nbformat": 4,
 "nbformat_minor": 5
}
