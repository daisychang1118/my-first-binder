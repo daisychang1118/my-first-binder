{
 "cells": [
  {
   "cell_type": "code",
   "execution_count": 1,
   "id": "20201eb0-e7a0-45b6-bdd6-0f1d36e678d2",
   "metadata": {},
   "outputs": [
    {
     "name": "stdout",
     "output_type": "stream",
     "text": [
      "('Max', 28, 'Boston')\n",
      "<class 'tuple'>\n",
      "<class 'str'>\n",
      "('Max', 28, 'Boston')\n",
      "Max\n",
      "Boston\n",
      "Max\n",
      "28\n",
      "Boston\n",
      "yes\n"
     ]
    }
   ],
   "source": [
    "# Tuple: ordered, immutable, allows duplicate elements\n",
    "\n",
    "mytuple = (\"Max\", 28, \"Boston\")\n",
    "print(mytuple)\n",
    "\n",
    "a_tuple = (\"Max\",) # this is a tuple\n",
    "not_a_tuple = (\"Max\") # this is a string\n",
    "print(type(a_tuple))\n",
    "print(type(not_a_tuple)) \n",
    "\n",
    "tuple2 = tuple([\"Max\", 28, \"Boston\"])\n",
    "print(tuple2)\n",
    "\n",
    "item = mytuple[0]\n",
    "print(item)\n",
    "\n",
    "item = mytuple[-1]\n",
    "print(item)\n",
    "\n",
    "# TypeError: 'tuple' object does not support item assignment\n",
    "# mytuple[0] = \"Tim\" \n",
    "\n",
    "for i in mytuple:\n",
    "    print(i)\n",
    "\n",
    "    \n",
    "if \"Max\" in mytuple:\n",
    "    print(\"yes\")\n",
    "else:\n",
    "    pritn(\"no\")"
   ]
  },
  {
   "cell_type": "code",
   "execution_count": 2,
   "id": "aeabdb5c-8671-4d74-b312-3598bff7956b",
   "metadata": {},
   "outputs": [
    {
     "name": "stdout",
     "output_type": "stream",
     "text": [
      "5\n",
      "2\n",
      "1\n",
      "['a', 'p', 'p', 'l', 'e']\n",
      "('a', 'p', 'p', 'l', 'e')\n"
     ]
    }
   ],
   "source": [
    "mytuple = ('a','p','p','l','e')\n",
    "print(len(mytuple))\n",
    "print(mytuple.count('p'))\n",
    "print(mytuple.index('p'))\n",
    " # print(mytuple.index('o')) # ValueError: tuple.index(x): x not in tuple\n",
    "\n",
    "mylist = list(mytuple)\n",
    "print(mylist)\n",
    "mytuple2 = tuple(mylist)\n",
    "print(mytuple2)"
   ]
  },
  {
   "cell_type": "code",
   "execution_count": 10,
   "id": "c8f83dce-e07f-4445-8ac9-515ac74efd4d",
   "metadata": {},
   "outputs": [
    {
     "name": "stdout",
     "output_type": "stream",
     "text": [
      "(3, 4, 5)\n",
      "(1, 2, 3, 4, 5)\n",
      "(1, 2, 3, 4, 5, 6, 7, 8, 9, 10)\n",
      "(1, 3, 5, 7, 9)\n",
      "(10, 9, 8, 7, 6, 5, 4, 3, 2, 1)\n",
      "Max\n",
      "28\n",
      "Boston\n"
     ]
    }
   ],
   "source": [
    "# slicing with tuple\n",
    "\n",
    "a = (1,2,3,4,5,6,7,8,9,10)\n",
    "\n",
    "b = a[2:5]\n",
    "print(b)\n",
    "\n",
    "c = a[:5]\n",
    "print(c)\n",
    "\n",
    "d = a[::1]\n",
    "print(d)\n",
    "\n",
    "e = a[::2]\n",
    "print(e)\n",
    "\n",
    "f = a[::-1]\n",
    "print(f)"
   ]
  },
  {
   "cell_type": "code",
   "execution_count": 11,
   "id": "08a5e62c-3810-4656-96da-2aa6b3570488",
   "metadata": {},
   "outputs": [
    {
     "name": "stdout",
     "output_type": "stream",
     "text": [
      "Max\n",
      "28\n",
      "Boston\n",
      "0\n",
      "[1, 2, 3]\n",
      "4\n"
     ]
    }
   ],
   "source": [
    "# unpack tuple\n",
    "mytuple = \"Max\", 28, \"Boston\"\n",
    "name, age, city = mytuple # the numbers of elements must match\n",
    "print(name)\n",
    "print(age)\n",
    "print(city)\n",
    "\n",
    "mytuple2 = (0,1,2,3,4)\n",
    "i1, *i2, i3 = mytuple2\n",
    "print(i1)\n",
    "print(i2) # will convert the element to list\n",
    "print(i3)"
   ]
  },
  {
   "cell_type": "code",
   "execution_count": 12,
   "id": "d3ef2488-4ff6-45ca-8edc-9f69eb760b88",
   "metadata": {},
   "outputs": [
    {
     "name": "stdout",
     "output_type": "stream",
     "text": [
      "112 bytes\n",
      "96 bytes\n"
     ]
    }
   ],
   "source": [
    "# compare tuple and list\n",
    "# with the same elements, list size is larger than tuple\n",
    "import sys\n",
    "mylist = [0,1,2,\"hello\",True]\n",
    "mytuple = (0,1,2,\"hello\",True)\n",
    "\n",
    "print(sys.getsizeof(mylist), \"bytes\") \n",
    "print(sys.getsizeof(mytuple), \"bytes\")"
   ]
  },
  {
   "cell_type": "code",
   "execution_count": 14,
   "id": "a8f7abb9-2d33-4ce4-b009-9ddba9a42894",
   "metadata": {},
   "outputs": [
    {
     "name": "stdout",
     "output_type": "stream",
     "text": [
      "0.06323097000131384\n",
      "0.01084611500846222\n"
     ]
    }
   ],
   "source": [
    "# compare tuple and list\n",
    "# tuple is faster tuple\n",
    "import timeit\n",
    "print(timeit.timeit(stmt=\"[0,1,2,3,4,5]\", number= 1000000))\n",
    "print(timeit.timeit(stmt=\"(0,1,2,3,4,5)\", number=1000000))"
   ]
  },
  {
   "cell_type": "code",
   "execution_count": null,
   "id": "16240768-b429-42eb-9f98-7bb4b4eaae79",
   "metadata": {},
   "outputs": [],
   "source": []
  }
 ],
 "metadata": {
  "kernelspec": {
   "display_name": "Python 3",
   "language": "python",
   "name": "python3"
  },
  "language_info": {
   "codemirror_mode": {
    "name": "ipython",
    "version": 3
   },
   "file_extension": ".py",
   "mimetype": "text/x-python",
   "name": "python",
   "nbconvert_exporter": "python",
   "pygments_lexer": "ipython3",
   "version": "3.7.10"
  }
 },
 "nbformat": 4,
 "nbformat_minor": 5
}
